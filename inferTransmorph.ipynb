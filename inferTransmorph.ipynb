{
 "cells": [
  {
   "cell_type": "code",
   "execution_count": null,
   "id": "e31201d1-e618-4457-802d-88e86e2b801c",
   "metadata": {
    "tags": [],
    "pycharm": {
     "is_executing": true
    }
   },
   "outputs": [],
   "source": [
    "import glob\n",
    "import os, utils\n",
    "from torch.utils.data import DataLoader\n",
    "from data import datasets\n",
    "import numpy as np\n",
    "import torch\n",
    "from natsort import natsorted\n",
    "from models.TransMorph import CONFIGS as CONFIGS_TM\n",
    "import models.TransMorph as TransMorph\n",
    "from pytorch_msssim import SSIM"
   ]
  },
  {
   "cell_type": "code",
   "execution_count": null,
   "id": "cdd6e485-9547-46e1-9c35-8278497bf6e9",
   "metadata": {
    "tags": []
   },
   "outputs": [],
   "source": [
    "def csv_writter(line, name):\n",
    "    with open(name+'.csv', 'a') as file:\n",
    "        file.write(line)\n",
    "        file.write('\\n')"
   ]
  },
  {
   "cell_type": "code",
   "execution_count": 3,
   "id": "72b709c9-07f9-420f-b120-0c1a937907f1",
   "metadata": {
    "tags": []
   },
   "outputs": [
    {
     "name": "stdout",
     "output_type": "stream",
     "text": [
      "Number of GPU: 2\n",
      "     GPU #0: NVIDIA A40\n",
      "     GPU #1: NVIDIA A40\n",
      "Currently using: NVIDIA A40\n",
      "If the GPU is available? True\n"
     ]
    }
   ],
   "source": [
    "GPU_iden = 0\n",
    "GPU_num = torch.cuda.device_count()\n",
    "print('Number of GPU: ' + str(GPU_num))\n",
    "for GPU_idx in range(GPU_num):\n",
    "    GPU_name = torch.cuda.get_device_name(GPU_idx)\n",
    "    print('     GPU #' + str(GPU_idx) + ': ' + GPU_name)\n",
    "torch.cuda.set_device(GPU_iden)\n",
    "GPU_avai = torch.cuda.is_available()\n",
    "print('Currently using: ' + torch.cuda.get_device_name(GPU_iden))\n",
    "print('If the GPU is available? ' + str(GPU_avai))"
   ]
  },
  {
   "cell_type": "code",
   "execution_count": 8,
   "id": "25b37c9a-c58d-4aca-a2b6-253de057f276",
   "metadata": {
    "tags": []
   },
   "outputs": [],
   "source": [
    "# Example Path\n",
    "# data_path = \"/home/udz8gm/TransMorph2D/dataset\"\n",
    "\n",
    "# UPDATE training data path to match data path specified in makeData file \n",
    "data_path = \"/path/to/dataset\"\n",
    "test_dir = data_path+\"/test/\"\n",
    "\n",
    "\n",
    "model_idx = -1\n",
    "weights = [1, 1]\n",
    "model_folder = 'TransMorph_ssim_{}_diffusion_{}/'.format(weights[0], weights[1])\n",
    "model_dir = 'experiments/' + model_folder"
   ]
  },
  {
   "cell_type": "code",
   "execution_count": 5,
   "id": "6bbc86ac-1ad9-4f1f-a5bc-75ba0d45e8e0",
   "metadata": {
    "tags": []
   },
   "outputs": [],
   "source": [
    "if not os.path.exists('Quantitative_Results/'):\n",
    "    os.makedirs('Quantitative_Results/')\n",
    "if os.path.exists('Quantitative_Results/'+model_folder[:-1]+'.csv'):\n",
    "    os.remove('Quantitative_Results/'+model_folder[:-1]+'.csv')\n",
    "csv_writter(model_folder[:-1], 'Quantitative_Results/' + model_folder[:-1])\n",
    "line = ',SSIM,det'\n",
    "csv_writter(line, 'Quantitative_Results/' + model_folder[:-1])"
   ]
  },
  {
   "cell_type": "code",
   "execution_count": 6,
   "id": "349f34c2-9875-4910-ae49-21c8efd10e54",
   "metadata": {
    "tags": []
   },
   "outputs": [
    {
     "name": "stderr",
     "output_type": "stream",
     "text": [
      "/usr/local/lib/python3.10/dist-packages/torch/functional.py:512: UserWarning: torch.meshgrid: in an upcoming release, it will be required to pass the indexing argument. (Triggered internally at /opt/pytorch/pytorch/aten/src/ATen/native/TensorShape.cpp:3587.)\n",
      "  return _VF.meshgrid(tensors, **kwargs)  # type: ignore[attr-defined]\n"
     ]
    },
    {
     "name": "stdout",
     "output_type": "stream",
     "text": [
      "Best model: dsc0.955.pth.tar\n"
     ]
    }
   ],
   "source": [
    "config = CONFIGS_TM['TransMorph-Sin']\n",
    "model = TransMorph.TransMorph(config)\n",
    "best_model = torch.load(model_dir + natsorted(os.listdir(model_dir))[model_idx])['state_dict']\n",
    "print('Best model: {}'.format(natsorted(os.listdir(model_dir))[model_idx]))\n",
    "model.load_state_dict(best_model)\n",
    "model.cuda()\n",
    "reg_model = utils.register_model(config.img_size, 'nearest')\n",
    "reg_model.cuda()\n",
    "reg_model_bilin = utils.register_model(config.img_size, 'bilinear')\n",
    "reg_model_bilin.cuda()\n",
    "test_set = datasets.RaFDInferDataset(glob.glob(test_dir + '*.pkl'), transforms=None)\n",
    "test_loader = DataLoader(test_set, batch_size=1, shuffle=False, num_workers=1, pin_memory=True, drop_last=True)\n",
    "ssim = SSIM(data_range=255, size_average=True, channel=1)\n",
    "eval_dsc_def = utils.AverageMeter()\n",
    "eval_dsc_raw = utils.AverageMeter()\n",
    "eval_det = utils.AverageMeter()"
   ]
  },
  {
   "cell_type": "code",
   "execution_count": 7,
   "id": "d9d20865-4038-42bd-8a40-ff839cf92783",
   "metadata": {
    "tags": []
   },
   "outputs": [
    {
     "name": "stdout",
     "output_type": "stream",
     "text": [
      "Deformed DSC: 0.955 +- 0.044, Affine DSC: 0.672 +- 0.150\n",
      "deformed det: 0.002774704031569966, std: 0.006668120361465577\n"
     ]
    }
   ],
   "source": [
    "with torch.no_grad():\n",
    "    stdy_idx = 0\n",
    "    for data in test_loader:\n",
    "        model.eval()\n",
    "        data = [t.cuda() for t in data]\n",
    "        x_rgb = data[0]\n",
    "        y_rgb = data[1]\n",
    "        x = data[2]\n",
    "        y = data[3]\n",
    "\n",
    "        x_in = torch.cat((y, x), dim=1)\n",
    "        output = model(x_in)\n",
    "        ncc = ssim(y, x)\n",
    "        eval_dsc_raw.update(ncc.item(), x.numel())\n",
    "        ncc = ssim(output[0], x)\n",
    "        eval_dsc_def.update(ncc.item(), x.numel())\n",
    "        jac_det = utils.jacobian_determinant_vxm(output[1].detach().cpu().numpy()[0, :, :, :])\n",
    "        eval_det.update(np.sum(jac_det <= 0) / np.prod(x.shape), x.numel())\n",
    "        line = 'p{}'.format(stdy_idx) + ',' + str(ncc.item()) + ',' + str(np.sum(jac_det <= 0) / np.prod(x.shape))\n",
    "        csv_writter(line, 'Quantitative_Results/' + model_folder[:-1])\n",
    "        stdy_idx += 1\n",
    "        # flip image\n",
    "        x_in = torch.cat((x, y), dim=1)\n",
    "        output = model(x_in)\n",
    "        ncc = ssim(y, x)\n",
    "        eval_dsc_raw.update(ncc.item(), x.numel())\n",
    "        ncc = ssim(output[0], y)\n",
    "        eval_dsc_def.update(ncc.item(), y.numel())\n",
    "        jac_det = utils.jacobian_determinant_vxm(output[1].detach().cpu().numpy()[0, :, :, :])\n",
    "        line = 'p{}'.format(stdy_idx) + ',' + str(ncc.item()) + ',' + str(np.sum(jac_det <= 0) / np.prod(x.shape))\n",
    "        eval_det.update(np.sum(jac_det <= 0) / np.prod(x.shape), x.numel())\n",
    "        csv_writter(line, 'Quantitative_Results/' + model_folder[:-1])\n",
    "        stdy_idx += 1\n",
    "    print('Deformed DSC: {:.3f} +- {:.3f}, Affine DSC: {:.3f} +- {:.3f}'.format(eval_dsc_def.avg,\n",
    "                                                                                eval_dsc_def.std,\n",
    "                                                                                eval_dsc_raw.avg,\n",
    "                                                                                eval_dsc_raw.std))\n",
    "    print('deformed det: {}, std: {}'.format(eval_det.avg, eval_det.std))"
   ]
  },
  {
   "cell_type": "code",
   "execution_count": null,
   "id": "83e05f9c-8bd2-4b23-98e6-c19701b554d1",
   "metadata": {},
   "outputs": [],
   "source": []
  }
 ],
 "metadata": {
  "kernelspec": {
   "name": "python3",
   "language": "python",
   "display_name": "Python 3 (ipykernel)"
  },
  "language_info": {
   "codemirror_mode": {
    "name": "ipython",
    "version": 3
   },
   "file_extension": ".py",
   "mimetype": "text/x-python",
   "name": "python",
   "nbconvert_exporter": "python",
   "pygments_lexer": "ipython3",
   "version": "3.10.12"
  }
 },
 "nbformat": 4,
 "nbformat_minor": 5
}

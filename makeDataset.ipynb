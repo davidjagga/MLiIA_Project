{
 "cells": [
  {
   "cell_type": "code",
   "execution_count": 1,
   "id": "82fed8d9-cd98-4152-a2e7-77a06f0f4011",
   "metadata": {
    "tags": []
   },
   "outputs": [],
   "source": [
    "import os\n",
    "import random\n",
    "from PIL import Image\n",
    "import numpy as np\n",
    "import pickle"
   ]
  },
  {
   "cell_type": "code",
   "execution_count": 2,
   "id": "d7f2b06c-d71f-4d11-9a31-44683786f9e4",
   "metadata": {
    "tags": []
   },
   "outputs": [],
   "source": [
    "#method to get all combinations of fixed and moving images\n",
    "def make_combinations(files):\n",
    "    file_pairs = []\n",
    "    length = len(files)\n",
    "    for i in range(length):\n",
    "        if files[i][0] ==\".\": continue\n",
    "        for j in range(i + 1, length):\n",
    "            if files[j][0] ==\".\": continue\n",
    "            file_pairs.append((files[i], files[j]))\n",
    "            \n",
    "    random.shuffle(file_pairs)\n",
    "    return file_pairs\n",
    "\n",
    "#save images as pickle file in pkl_path\n",
    "def make_pickle(file1, file2, pkl_path):\n",
    "    # Load and ensure images are in RGB format\n",
    "    img1 = Image.open(file1).convert(\"RGB\")\n",
    "    img2 = Image.open(file2).convert(\"RGB\")\n",
    "\n",
    "    # Convert images to numpy arrays\n",
    "    img1_rgb = np.array(img1, dtype=np.float32)  # Ensure type matches expectations\n",
    "    img2_rgb = np.array(img2, dtype=np.float32)\n",
    "\n",
    "    # Convert to grayscale\n",
    "    img1_gray = np.array(img1.convert(\"L\"), dtype=np.float32)\n",
    "    img2_gray = np.array(img2.convert(\"L\"), dtype=np.float32)\n",
    "\n",
    "    # Prepare data as a tuple (x, y, x_gray, y_gray)\n",
    "    data = (img1_rgb, img2_rgb, img1_gray, img2_gray)\n",
    "\n",
    "    # Save data to a pickle file\n",
    "    with open(pkl_path, \"wb\") as f:\n",
    "        pickle.dump(data, f)"
   ]
  },
  {
   "cell_type": "code",
   "execution_count": 16,
   "id": "75615ce6-5a9a-4c64-a875-a769d0c0edae",
   "metadata": {
    "tags": []
   },
   "outputs": [],
   "source": [
    "# Example File Paths\n",
    "# mnist_path = \"/scratch/udz8gm/registrationDataset/mnist\"\n",
    "# quick_draw_path = \"/scratch/udz8gm/registrationDataset/google_quickdraw\"\n",
    "# data_path = \"/home/udz8gm/TransMorph2D/dataset\"\n",
    "\n",
    "#UPDATE file paths here\n",
    "mnist_path = \"registrationDataset/mnist\"\n",
    "quick_draw_path = \"registrationDataset/google_quickdraw\"\n",
    "data_path = \"dataset\"\n",
    "\n",
    "#specify train, test, validation subpaths\n",
    "train_path = data_path+\"/train\"\n",
    "val_path = data_path+\"/val\"\n",
    "test_path = data_path+\"/test\"\n",
    "\n",
    "os.makedirs(data_path, exist_ok=True)\n",
    "os.makedirs(train_path, exist_ok=True)\n",
    "os.makedirs(val_path, exist_ok=True)\n",
    "os.makedirs(test_path, exist_ok=True)\n",
    "\n",
    "globalCounter = 0"
   ]
  },
  {
   "cell_type": "code",
   "execution_count": 17,
   "id": "b1ab25ea-7207-414c-b97e-931db7b88276",
   "metadata": {
    "tags": []
   },
   "outputs": [],
   "source": [
    "# make training and validation data\n",
    "for digit_folder in os.listdir(mnist_path):\n",
    "    if digit_folder[0] ==\".\": continue\n",
    "    digit_folder_path = f\"{mnist_path}/{digit_folder}\"\n",
    "    for type_folder in os.listdir(digit_folder_path):\n",
    "        if type_folder[0] ==\".\": continue\n",
    "        type_folder_path = f\"{digit_folder_path}/{type_folder}\"\n",
    "        files = os.listdir(type_folder_path)\n",
    "        file_pairs = make_combinations(files)\n",
    "        sep = int(len(file_pairs)*0.8)\n",
    "        train_files, val_files = file_pairs[:sep], file_pairs[sep:]\n",
    "        \n",
    "        for f1, f2 in train_files:\n",
    "            globalCounter +=1\n",
    "            f1 = f\"{type_folder_path}/{f1}\"\n",
    "            f2 = f\"{type_folder_path}/{f2}\"\n",
    "            output = f\"{train_path}/{globalCounter}.pkl\"\n",
    "            make_pickle(f1, f2, output)\n",
    "        \n",
    "        for f1, f2 in val_files:\n",
    "            globalCounter +=1\n",
    "            f1 = f\"{type_folder_path}/{f1}\"\n",
    "            f2 = f\"{type_folder_path}/{f2}\"\n",
    "            output = f\"{val_path}/{globalCounter}.pkl\"\n",
    "            make_pickle(f1, f2, output)"
   ]
  },
  {
   "cell_type": "code",
   "execution_count": 9,
   "id": "8a287bfc-4b56-45cb-af57-353782e98884",
   "metadata": {
    "tags": []
   },
   "outputs": [],
   "source": [
    "#make testing data\n",
    "for drawing_folder in os.listdir(quick_draw_path):\n",
    "    if drawing_folder[0] ==\".\": continue\n",
    "    drawing_path = f\"{quick_draw_path}/{drawing_folder}\"\n",
    "    test_files = os.listdir(drawing_path)\n",
    "    file_pairs = make_combinations(test_files)\n",
    "    for f1, f2 in file_pairs:\n",
    "        globalCounter +=1\n",
    "        f1 = f\"{drawing_path}/{f1}\"\n",
    "        f2 = f\"{drawing_path}/{f2}\"\n",
    "        output = f\"{test_path}/{globalCounter}.pkl\"\n",
    "        make_pickle(f1, f2, output)"
   ]
  },
  {
   "cell_type": "code",
   "execution_count": null,
   "outputs": [],
   "source": [],
   "metadata": {
    "collapsed": false
   }
  }
 ],
 "metadata": {
  "kernelspec": {
   "name": "python3",
   "language": "python",
   "display_name": "Python 3 (ipykernel)"
  },
  "language_info": {
   "codemirror_mode": {
    "name": "ipython",
    "version": 3
   },
   "file_extension": ".py",
   "mimetype": "text/x-python",
   "name": "python",
   "nbconvert_exporter": "python",
   "pygments_lexer": "ipython3",
   "version": "3.10.12"
  }
 },
 "nbformat": 4,
 "nbformat_minor": 5
}
